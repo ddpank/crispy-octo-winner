{
  "nbformat": 4,
  "nbformat_minor": 0,
  "metadata": {
    "colab": {
      "provenance": [],
      "toc_visible": true,
      "authorship_tag": "ABX9TyPbPnSc8tAFVa0uhfu7f+OK",
      "include_colab_link": true
    },
    "kernelspec": {
      "name": "python3",
      "display_name": "Python 3"
    },
    "language_info": {
      "name": "python"
    }
  },
  "cells": [
    {
      "cell_type": "markdown",
      "metadata": {
        "id": "view-in-github",
        "colab_type": "text"
      },
      "source": [
        "<a href=\"https://colab.research.google.com/github/ddpank/crispy-octo-winner/blob/main/solution_3.ipynb\" target=\"_parent\"><img src=\"https://colab.research.google.com/assets/colab-badge.svg\" alt=\"Open In Colab\"/></a>"
      ]
    },
    {
      "cell_type": "markdown",
      "source": [
        "Панкова Диана, 213 группа"
      ],
      "metadata": {
        "id": "rn0LiZT9NDXj"
      }
    },
    {
      "cell_type": "code",
      "execution_count": 14,
      "metadata": {
        "colab": {
          "base_uri": "https://localhost:8080/"
        },
        "id": "8gp93kOP2JgK",
        "outputId": "750b2609-2866-4e1b-d2ec-3764be59b917"
      },
      "outputs": [
        {
          "output_type": "stream",
          "name": "stdout",
          "text": [
            "Введите число 1: 2\n",
            "Введите число 2: 3\n",
            "Введите число 3: 8\n",
            "2 в степени 3 равно 8\n"
          ]
        }
      ],
      "source": [
        "a = int(input('Введите число 1: '))\n",
        "b = int(input('Введите число 2: '))\n",
        "c = int(input('Введите число 3: '))\n",
        "if a**b == c: \n",
        "  print(a, 'в степени', b, 'равно', c)\n",
        "else:\n",
        "  print(a, 'в степени', b, 'не равно', c)"
      ]
    },
    {
      "cell_type": "code",
      "source": [
        "a = int(input('Введите число 1: '))\n",
        "b = int(input('Введите число 2: '))\n",
        "c = int(input('Введите число 3: '))\n",
        "if a*c+b==0: \n",
        "  print(c, 'является корнем уравнения ax+b=0')\n",
        "else:\n",
        "  print(c, 'не является корнем уравнения ax+b=0')\n"
      ],
      "metadata": {
        "colab": {
          "base_uri": "https://localhost:8080/"
        },
        "id": "hupXbrisAyKi",
        "outputId": "7d21b9e9-aae7-4ac1-b00c-6d7fff49bb21"
      },
      "execution_count": 17,
      "outputs": [
        {
          "output_type": "stream",
          "name": "stdout",
          "text": [
            "Введите число 1: 2\n",
            "Введите число 2: -6\n",
            "Введите число 3: 3\n",
            "3 является корнем уравнения ax+b=0\n"
          ]
        }
      ]
    }
  ]
}