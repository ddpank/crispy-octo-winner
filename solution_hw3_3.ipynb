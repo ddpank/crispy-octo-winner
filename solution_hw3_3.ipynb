{
  "nbformat": 4,
  "nbformat_minor": 0,
  "metadata": {
    "colab": {
      "provenance": [],
      "authorship_tag": "ABX9TyNmvxlZuNjhao7+U9b9NQdq",
      "include_colab_link": true
    },
    "kernelspec": {
      "name": "python3",
      "display_name": "Python 3"
    },
    "language_info": {
      "name": "python"
    }
  },
  "cells": [
    {
      "cell_type": "markdown",
      "metadata": {
        "id": "view-in-github",
        "colab_type": "text"
      },
      "source": [
        "<a href=\"https://colab.research.google.com/github/ddpank/crispy-octo-winner/blob/main/solution_hw3_3.ipynb\" target=\"_parent\"><img src=\"https://colab.research.google.com/assets/colab-badge.svg\" alt=\"Open In Colab\"/></a>"
      ]
    },
    {
      "cell_type": "markdown",
      "source": [
        "Панкова Диана, 213 группа, вариант 3"
      ],
      "metadata": {
        "id": "d1woR9oC-Kb0"
      }
    },
    {
      "cell_type": "markdown",
      "source": [
        "Задание 1"
      ],
      "metadata": {
        "id": "aCcESpzQ774b"
      }
    },
    {
      "cell_type": "code",
      "source": [
        "dolka = 12\n",
        "friends = int(input('Сколько у вас друзей? '))\n",
        "question = input('Вам досталась долька? да/нет ')\n",
        "while question == 'нет' and dolka >= 1:\n",
        "   print('Отдаю дольку другу')\n",
        "   dolka-=1\n",
        "   friends-=1\n",
        "   print('Осталось долек:', dolka)\n",
        "   question = input('Вам досталась долька? да/нет ')\n",
        "if question == 'да' and dolka > 0 and friends == 0:\n",
        "    print('Ура! И мне хватило!')\n",
        "elif dolka == 0 and friends == 0:\n",
        "    print('Мне и не хотелось')\n",
        "else:\n",
        "  print('Не расстраивайся! В следующий раз хватит')"
      ],
      "metadata": {
        "colab": {
          "base_uri": "https://localhost:8080/"
        },
        "id": "NKHQlEolG0Oy",
        "outputId": "bd959673-de64-4ec7-c6d7-6df68f30e1d1"
      },
      "execution_count": 8,
      "outputs": [
        {
          "output_type": "stream",
          "name": "stdout",
          "text": [
            "Сколько у вас друзей? 8\n",
            "Вам досталась долька? да/нет нет\n",
            "Отдаю дольку другу\n",
            "Осталось долек: 11\n",
            "Вам досталась долька? да/нет нет\n",
            "Отдаю дольку другу\n",
            "Осталось долек: 10\n",
            "Вам досталась долька? да/нет нет\n",
            "Отдаю дольку другу\n",
            "Осталось долек: 9\n",
            "Вам досталась долька? да/нет нет\n",
            "Отдаю дольку другу\n",
            "Осталось долек: 8\n",
            "Вам досталась долька? да/нет нет\n",
            "Отдаю дольку другу\n",
            "Осталось долек: 7\n",
            "Вам досталась долька? да/нет нет\n",
            "Отдаю дольку другу\n",
            "Осталось долек: 6\n",
            "Вам досталась долька? да/нет нет\n",
            "Отдаю дольку другу\n",
            "Осталось долек: 5\n",
            "Вам досталась долька? да/нет нет\n",
            "Отдаю дольку другу\n",
            "Осталось долек: 4\n",
            "Вам досталась долька? да/нет да\n",
            "Ура! И мне хватило!\n"
          ]
        }
      ]
    },
    {
      "cell_type": "markdown",
      "source": [
        "Задание 4"
      ],
      "metadata": {
        "id": "JbvXhKN771P4"
      }
    },
    {
      "cell_type": "code",
      "source": [
        "n_chapters_maybe = int(input('Планирую написать глав... '))\n",
        "n_parts = int(input('Количество основных частей в каждой главе: '))\n",
        "chapters_end = 0\n",
        "while n_chapters_maybe > 0:\n",
        "      insp = input('Буду писать? да/нет ')\n",
        "      if insp == 'да':\n",
        "        print('Пишу главу...')\n",
        "        n_chapters_maybe-=1\n",
        "        parts_end = 0\n",
        "        chapters_end+=1\n",
        "        while parts_end < n_parts:\n",
        "          parts_end+=1 \n",
        "          print('Часть', parts_end)\n",
        "        print('Глава закончена! Количество глав уже: ', chapters_end)\n",
        "      else:\n",
        "        print('Надо бы отдохнуть. Вышло ', chapters_end)\n",
        "        break\n",
        "    "
      ],
      "metadata": {
        "colab": {
          "base_uri": "https://localhost:8080/"
        },
        "id": "1Berj5LCQePT",
        "outputId": "f1c3bd40-5d42-43d1-cd6a-1e59605df2e4"
      },
      "execution_count": null,
      "outputs": [
        {
          "output_type": "stream",
          "name": "stdout",
          "text": [
            "Планирую написать глав... 2\n",
            "Количество основных частей в каждой главе: 4\n",
            "Буду писать? да/нет да\n",
            "Пишу главу...\n",
            "Часть 1\n",
            "Часть 2\n",
            "Часть 3\n",
            "Часть 4\n",
            "Глава закончена! Количество глав уже:  1\n",
            "Буду писать? да/нет нет\n",
            "Надо бы отдохнуть. Вышло  1\n"
          ]
        }
      ]
    }
  ]
}